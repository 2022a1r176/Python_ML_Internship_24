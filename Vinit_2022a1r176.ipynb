{
 "cells": [
  {
   "cell_type": "code",
   "execution_count": 40,
   "id": "62fcc872-7dc2-4ace-bde6-5a42ef5c83b3",
   "metadata": {},
   "outputs": [
    {
     "name": "stdout",
     "output_type": "stream",
     "text": [
      "        * \n",
      "      * * \n",
      "    * * * \n",
      "  * * * * \n",
      "* * * * * \n"
     ]
    }
   ],
   "source": [
    "#Q1\n",
    "\n",
    "def draw_triangle_pattern(rows):\n",
    "    for i in range(1, rows + 1):\n",
    "        \n",
    "        for j in range(rows - i):\n",
    "            print(\" \", end=\" \")\n",
    "        \n",
    "        for k in range(i):\n",
    "            print(\"*\", end=\" \")\n",
    "        print()\n",
    "\n",
    "\n",
    "rows = 5\n",
    "draw_triangle_pattern(rows)\n",
    "    \n",
    "             \n",
    "    "
   ]
  },
  {
   "cell_type": "code",
   "execution_count": 49,
   "id": "a1900951-eee7-4a8b-b498-414964d469e6",
   "metadata": {},
   "outputs": [
    {
     "name": "stdin",
     "output_type": "stream",
     "text": [
      "Enter the first number:  44\n",
      "Enter the second number:  56\n"
     ]
    },
    {
     "name": "stdout",
     "output_type": "stream",
     "text": [
      "The result of 44.0 divided by 56.0 is 0.79\n"
     ]
    }
   ],
   "source": [
    "#Q2\n",
    "def perform_division():\n",
    "    while True:\n",
    "        try:\n",
    "            num1 = float(input(\"Enter the first number: \"))\n",
    "            num2 = float(input(\"Enter the second number: \"))\n",
    "            result = num1 / num2\n",
    "            print(f\"The result of {num1} divided by {num2} is {result:.2f}\")\n",
    "            break\n",
    "        except ZeroDivisionError:\n",
    "            print(\"Error: Division by zero is not allowed. Please try again.\")\n",
    "        except ValueError:\n",
    "            print(\"Error: Invalid input! Please enter numerical values.\")\n",
    "\n",
    "if __name__ == \"__main__\":\n",
    "    perform_division()\n"
   ]
  },
  {
   "cell_type": "code",
   "execution_count": null,
   "id": "4f731efc-55ae-44b5-b19d-032207ee351d",
   "metadata": {},
   "outputs": [],
   "source": [
    "#Q3\n"
   ]
  }
 ],
 "metadata": {
  "kernelspec": {
   "display_name": "Python 3 (ipykernel)",
   "language": "python",
   "name": "python3"
  },
  "language_info": {
   "codemirror_mode": {
    "name": "ipython",
    "version": 3
   },
   "file_extension": ".py",
   "mimetype": "text/x-python",
   "name": "python",
   "nbconvert_exporter": "python",
   "pygments_lexer": "ipython3",
   "version": "3.12.4"
  }
 },
 "nbformat": 4,
 "nbformat_minor": 5
}
